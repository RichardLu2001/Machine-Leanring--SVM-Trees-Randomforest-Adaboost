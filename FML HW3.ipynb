{
 "cells": [
  {
   "cell_type": "code",
   "execution_count": 2,
   "id": "a00d0ed0",
   "metadata": {},
   "outputs": [],
   "source": [
    "from sklearn import model_selection,metrics\n",
    "from sklearn import tree\n",
    "from sklearn.ensemble import RandomForestClassifier\n",
    "from sklearn.ensemble import AdaBoostClassifier\n",
    "from sklearn.linear_model import LogisticRegression\n",
    "from sklearn.svm import LinearSVC\n",
    "import numpy as np\n",
    "import pandas as pd\n",
    "import array\n",
    "import matplotlib.pyplot as plt"
   ]
  },
  {
   "cell_type": "code",
   "execution_count": 5,
   "id": "a1db71e2",
   "metadata": {},
   "outputs": [
    {
     "data": {
      "text/html": [
       "<div>\n",
       "<style scoped>\n",
       "    .dataframe tbody tr th:only-of-type {\n",
       "        vertical-align: middle;\n",
       "    }\n",
       "\n",
       "    .dataframe tbody tr th {\n",
       "        vertical-align: top;\n",
       "    }\n",
       "\n",
       "    .dataframe thead th {\n",
       "        text-align: right;\n",
       "    }\n",
       "</style>\n",
       "<table border=\"1\" class=\"dataframe\">\n",
       "  <thead>\n",
       "    <tr style=\"text-align: right;\">\n",
       "      <th></th>\n",
       "      <th>Diabetes</th>\n",
       "      <th>HighBP</th>\n",
       "      <th>HighChol</th>\n",
       "      <th>BMI</th>\n",
       "      <th>Smoker</th>\n",
       "      <th>Stroke</th>\n",
       "      <th>Myocardial</th>\n",
       "      <th>PhysActivity</th>\n",
       "      <th>Fruit</th>\n",
       "      <th>Vegetables</th>\n",
       "      <th>...</th>\n",
       "      <th>NotAbleToAffordDoctor</th>\n",
       "      <th>GeneralHealth</th>\n",
       "      <th>MentalHealth</th>\n",
       "      <th>PhysicalHealth</th>\n",
       "      <th>HardToClimbStairs</th>\n",
       "      <th>BiologicalSex</th>\n",
       "      <th>AgeBracket</th>\n",
       "      <th>EducationBracket</th>\n",
       "      <th>IncomeBracket</th>\n",
       "      <th>Zodiac</th>\n",
       "    </tr>\n",
       "  </thead>\n",
       "  <tbody>\n",
       "    <tr>\n",
       "      <th>0</th>\n",
       "      <td>0</td>\n",
       "      <td>1</td>\n",
       "      <td>1</td>\n",
       "      <td>40</td>\n",
       "      <td>1</td>\n",
       "      <td>0</td>\n",
       "      <td>0</td>\n",
       "      <td>0</td>\n",
       "      <td>0</td>\n",
       "      <td>1</td>\n",
       "      <td>...</td>\n",
       "      <td>0</td>\n",
       "      <td>5</td>\n",
       "      <td>18</td>\n",
       "      <td>15</td>\n",
       "      <td>1</td>\n",
       "      <td>1</td>\n",
       "      <td>9</td>\n",
       "      <td>4</td>\n",
       "      <td>3</td>\n",
       "      <td>10</td>\n",
       "    </tr>\n",
       "    <tr>\n",
       "      <th>1</th>\n",
       "      <td>0</td>\n",
       "      <td>0</td>\n",
       "      <td>0</td>\n",
       "      <td>25</td>\n",
       "      <td>1</td>\n",
       "      <td>0</td>\n",
       "      <td>0</td>\n",
       "      <td>1</td>\n",
       "      <td>0</td>\n",
       "      <td>0</td>\n",
       "      <td>...</td>\n",
       "      <td>1</td>\n",
       "      <td>3</td>\n",
       "      <td>0</td>\n",
       "      <td>0</td>\n",
       "      <td>0</td>\n",
       "      <td>1</td>\n",
       "      <td>7</td>\n",
       "      <td>6</td>\n",
       "      <td>1</td>\n",
       "      <td>11</td>\n",
       "    </tr>\n",
       "    <tr>\n",
       "      <th>2</th>\n",
       "      <td>0</td>\n",
       "      <td>1</td>\n",
       "      <td>1</td>\n",
       "      <td>28</td>\n",
       "      <td>0</td>\n",
       "      <td>0</td>\n",
       "      <td>0</td>\n",
       "      <td>0</td>\n",
       "      <td>1</td>\n",
       "      <td>0</td>\n",
       "      <td>...</td>\n",
       "      <td>1</td>\n",
       "      <td>5</td>\n",
       "      <td>30</td>\n",
       "      <td>30</td>\n",
       "      <td>1</td>\n",
       "      <td>1</td>\n",
       "      <td>9</td>\n",
       "      <td>4</td>\n",
       "      <td>8</td>\n",
       "      <td>2</td>\n",
       "    </tr>\n",
       "    <tr>\n",
       "      <th>3</th>\n",
       "      <td>0</td>\n",
       "      <td>1</td>\n",
       "      <td>0</td>\n",
       "      <td>27</td>\n",
       "      <td>0</td>\n",
       "      <td>0</td>\n",
       "      <td>0</td>\n",
       "      <td>1</td>\n",
       "      <td>1</td>\n",
       "      <td>1</td>\n",
       "      <td>...</td>\n",
       "      <td>0</td>\n",
       "      <td>2</td>\n",
       "      <td>0</td>\n",
       "      <td>0</td>\n",
       "      <td>0</td>\n",
       "      <td>1</td>\n",
       "      <td>11</td>\n",
       "      <td>3</td>\n",
       "      <td>6</td>\n",
       "      <td>11</td>\n",
       "    </tr>\n",
       "    <tr>\n",
       "      <th>4</th>\n",
       "      <td>0</td>\n",
       "      <td>1</td>\n",
       "      <td>1</td>\n",
       "      <td>24</td>\n",
       "      <td>0</td>\n",
       "      <td>0</td>\n",
       "      <td>0</td>\n",
       "      <td>1</td>\n",
       "      <td>1</td>\n",
       "      <td>1</td>\n",
       "      <td>...</td>\n",
       "      <td>0</td>\n",
       "      <td>2</td>\n",
       "      <td>3</td>\n",
       "      <td>0</td>\n",
       "      <td>0</td>\n",
       "      <td>1</td>\n",
       "      <td>11</td>\n",
       "      <td>5</td>\n",
       "      <td>4</td>\n",
       "      <td>8</td>\n",
       "    </tr>\n",
       "  </tbody>\n",
       "</table>\n",
       "<p>5 rows × 22 columns</p>\n",
       "</div>"
      ],
      "text/plain": [
       "   Diabetes  HighBP  HighChol  BMI  Smoker  Stroke  Myocardial  PhysActivity  \\\n",
       "0         0       1         1   40       1       0           0             0   \n",
       "1         0       0         0   25       1       0           0             1   \n",
       "2         0       1         1   28       0       0           0             0   \n",
       "3         0       1         0   27       0       0           0             1   \n",
       "4         0       1         1   24       0       0           0             1   \n",
       "\n",
       "   Fruit  Vegetables  ...  NotAbleToAffordDoctor  GeneralHealth  MentalHealth  \\\n",
       "0      0           1  ...                      0              5            18   \n",
       "1      0           0  ...                      1              3             0   \n",
       "2      1           0  ...                      1              5            30   \n",
       "3      1           1  ...                      0              2             0   \n",
       "4      1           1  ...                      0              2             3   \n",
       "\n",
       "   PhysicalHealth  HardToClimbStairs  BiologicalSex  AgeBracket  \\\n",
       "0              15                  1              1           9   \n",
       "1               0                  0              1           7   \n",
       "2              30                  1              1           9   \n",
       "3               0                  0              1          11   \n",
       "4               0                  0              1          11   \n",
       "\n",
       "   EducationBracket  IncomeBracket  Zodiac  \n",
       "0                 4              3      10  \n",
       "1                 6              1      11  \n",
       "2                 4              8       2  \n",
       "3                 3              6      11  \n",
       "4                 5              4       8  \n",
       "\n",
       "[5 rows x 22 columns]"
      ]
     },
     "execution_count": 5,
     "metadata": {},
     "output_type": "execute_result"
    }
   ],
   "source": [
    "df=pd.read_csv('diabetes.csv')\n",
    "df.head()"
   ]
  },
  {
   "cell_type": "code",
   "execution_count": 6,
   "id": "056032c6",
   "metadata": {},
   "outputs": [
    {
     "data": {
      "text/html": [
       "<div>\n",
       "<style scoped>\n",
       "    .dataframe tbody tr th:only-of-type {\n",
       "        vertical-align: middle;\n",
       "    }\n",
       "\n",
       "    .dataframe tbody tr th {\n",
       "        vertical-align: top;\n",
       "    }\n",
       "\n",
       "    .dataframe thead th {\n",
       "        text-align: right;\n",
       "    }\n",
       "</style>\n",
       "<table border=\"1\" class=\"dataframe\">\n",
       "  <thead>\n",
       "    <tr style=\"text-align: right;\">\n",
       "      <th></th>\n",
       "      <th>Diabetes</th>\n",
       "      <th>HighBP</th>\n",
       "      <th>HighChol</th>\n",
       "      <th>BMI</th>\n",
       "      <th>Smoker</th>\n",
       "      <th>Stroke</th>\n",
       "      <th>Myocardial</th>\n",
       "      <th>PhysActivity</th>\n",
       "      <th>Fruit</th>\n",
       "      <th>Vegetables</th>\n",
       "      <th>...</th>\n",
       "      <th>NotAbleToAffordDoctor</th>\n",
       "      <th>GeneralHealth</th>\n",
       "      <th>MentalHealth</th>\n",
       "      <th>PhysicalHealth</th>\n",
       "      <th>HardToClimbStairs</th>\n",
       "      <th>BiologicalSex</th>\n",
       "      <th>AgeBracket</th>\n",
       "      <th>EducationBracket</th>\n",
       "      <th>IncomeBracket</th>\n",
       "      <th>Zodiac</th>\n",
       "    </tr>\n",
       "  </thead>\n",
       "  <tbody>\n",
       "    <tr>\n",
       "      <th>0</th>\n",
       "      <td>0</td>\n",
       "      <td>1</td>\n",
       "      <td>1</td>\n",
       "      <td>1.757932</td>\n",
       "      <td>1</td>\n",
       "      <td>0</td>\n",
       "      <td>0</td>\n",
       "      <td>0</td>\n",
       "      <td>0</td>\n",
       "      <td>1</td>\n",
       "      <td>...</td>\n",
       "      <td>0</td>\n",
       "      <td>5</td>\n",
       "      <td>1.998588</td>\n",
       "      <td>1.233996</td>\n",
       "      <td>1</td>\n",
       "      <td>1</td>\n",
       "      <td>9</td>\n",
       "      <td>4</td>\n",
       "      <td>3</td>\n",
       "      <td>10</td>\n",
       "    </tr>\n",
       "    <tr>\n",
       "      <th>1</th>\n",
       "      <td>0</td>\n",
       "      <td>0</td>\n",
       "      <td>0</td>\n",
       "      <td>-0.511805</td>\n",
       "      <td>1</td>\n",
       "      <td>0</td>\n",
       "      <td>0</td>\n",
       "      <td>1</td>\n",
       "      <td>0</td>\n",
       "      <td>0</td>\n",
       "      <td>...</td>\n",
       "      <td>1</td>\n",
       "      <td>3</td>\n",
       "      <td>-0.429629</td>\n",
       "      <td>-0.486591</td>\n",
       "      <td>0</td>\n",
       "      <td>1</td>\n",
       "      <td>7</td>\n",
       "      <td>6</td>\n",
       "      <td>1</td>\n",
       "      <td>11</td>\n",
       "    </tr>\n",
       "    <tr>\n",
       "      <th>2</th>\n",
       "      <td>0</td>\n",
       "      <td>1</td>\n",
       "      <td>1</td>\n",
       "      <td>-0.057858</td>\n",
       "      <td>0</td>\n",
       "      <td>0</td>\n",
       "      <td>0</td>\n",
       "      <td>0</td>\n",
       "      <td>1</td>\n",
       "      <td>0</td>\n",
       "      <td>...</td>\n",
       "      <td>1</td>\n",
       "      <td>5</td>\n",
       "      <td>3.617399</td>\n",
       "      <td>2.954584</td>\n",
       "      <td>1</td>\n",
       "      <td>1</td>\n",
       "      <td>9</td>\n",
       "      <td>4</td>\n",
       "      <td>8</td>\n",
       "      <td>2</td>\n",
       "    </tr>\n",
       "    <tr>\n",
       "      <th>3</th>\n",
       "      <td>0</td>\n",
       "      <td>1</td>\n",
       "      <td>0</td>\n",
       "      <td>-0.209173</td>\n",
       "      <td>0</td>\n",
       "      <td>0</td>\n",
       "      <td>0</td>\n",
       "      <td>1</td>\n",
       "      <td>1</td>\n",
       "      <td>1</td>\n",
       "      <td>...</td>\n",
       "      <td>0</td>\n",
       "      <td>2</td>\n",
       "      <td>-0.429629</td>\n",
       "      <td>-0.486591</td>\n",
       "      <td>0</td>\n",
       "      <td>1</td>\n",
       "      <td>11</td>\n",
       "      <td>3</td>\n",
       "      <td>6</td>\n",
       "      <td>11</td>\n",
       "    </tr>\n",
       "    <tr>\n",
       "      <th>4</th>\n",
       "      <td>0</td>\n",
       "      <td>1</td>\n",
       "      <td>1</td>\n",
       "      <td>-0.663121</td>\n",
       "      <td>0</td>\n",
       "      <td>0</td>\n",
       "      <td>0</td>\n",
       "      <td>1</td>\n",
       "      <td>1</td>\n",
       "      <td>1</td>\n",
       "      <td>...</td>\n",
       "      <td>0</td>\n",
       "      <td>2</td>\n",
       "      <td>-0.024926</td>\n",
       "      <td>-0.486591</td>\n",
       "      <td>0</td>\n",
       "      <td>1</td>\n",
       "      <td>11</td>\n",
       "      <td>5</td>\n",
       "      <td>4</td>\n",
       "      <td>8</td>\n",
       "    </tr>\n",
       "  </tbody>\n",
       "</table>\n",
       "<p>5 rows × 22 columns</p>\n",
       "</div>"
      ],
      "text/plain": [
       "   Diabetes  HighBP  HighChol       BMI  Smoker  Stroke  Myocardial  \\\n",
       "0         0       1         1  1.757932       1       0           0   \n",
       "1         0       0         0 -0.511805       1       0           0   \n",
       "2         0       1         1 -0.057858       0       0           0   \n",
       "3         0       1         0 -0.209173       0       0           0   \n",
       "4         0       1         1 -0.663121       0       0           0   \n",
       "\n",
       "   PhysActivity  Fruit  Vegetables  ...  NotAbleToAffordDoctor  GeneralHealth  \\\n",
       "0             0      0           1  ...                      0              5   \n",
       "1             1      0           0  ...                      1              3   \n",
       "2             0      1           0  ...                      1              5   \n",
       "3             1      1           1  ...                      0              2   \n",
       "4             1      1           1  ...                      0              2   \n",
       "\n",
       "   MentalHealth  PhysicalHealth  HardToClimbStairs  BiologicalSex  AgeBracket  \\\n",
       "0      1.998588        1.233996                  1              1           9   \n",
       "1     -0.429629       -0.486591                  0              1           7   \n",
       "2      3.617399        2.954584                  1              1           9   \n",
       "3     -0.429629       -0.486591                  0              1          11   \n",
       "4     -0.024926       -0.486591                  0              1          11   \n",
       "\n",
       "   EducationBracket  IncomeBracket  Zodiac  \n",
       "0                 4              3      10  \n",
       "1                 6              1      11  \n",
       "2                 4              8       2  \n",
       "3                 3              6      11  \n",
       "4                 5              4       8  \n",
       "\n",
       "[5 rows x 22 columns]"
      ]
     },
     "execution_count": 6,
     "metadata": {},
     "output_type": "execute_result"
    }
   ],
   "source": [
    "df1 = df.copy()\n",
    "df1['BMI']=(df['BMI']-df['BMI'].mean())/df['BMI'].std()\n",
    "df1['MentalHealth']=(df['MentalHealth']-df['MentalHealth'].mean())/df['MentalHealth'].std()\n",
    "df1['PhysicalHealth']=(df['PhysicalHealth']-df['PhysicalHealth'].mean())/df['PhysicalHealth'].std()\n",
    "df1.head()"
   ]
  },
  {
   "cell_type": "code",
   "execution_count": 7,
   "id": "a05b6354",
   "metadata": {},
   "outputs": [
    {
     "name": "stdout",
     "output_type": "stream",
     "text": [
      "(253680, 21)\n"
     ]
    },
    {
     "data": {
      "text/html": [
       "<div>\n",
       "<style scoped>\n",
       "    .dataframe tbody tr th:only-of-type {\n",
       "        vertical-align: middle;\n",
       "    }\n",
       "\n",
       "    .dataframe tbody tr th {\n",
       "        vertical-align: top;\n",
       "    }\n",
       "\n",
       "    .dataframe thead th {\n",
       "        text-align: right;\n",
       "    }\n",
       "</style>\n",
       "<table border=\"1\" class=\"dataframe\">\n",
       "  <thead>\n",
       "    <tr style=\"text-align: right;\">\n",
       "      <th></th>\n",
       "      <th>HighBP</th>\n",
       "      <th>HighChol</th>\n",
       "      <th>BMI</th>\n",
       "      <th>Smoker</th>\n",
       "      <th>Stroke</th>\n",
       "      <th>Myocardial</th>\n",
       "      <th>PhysActivity</th>\n",
       "      <th>Fruit</th>\n",
       "      <th>Vegetables</th>\n",
       "      <th>HeavyDrinker</th>\n",
       "      <th>...</th>\n",
       "      <th>NotAbleToAffordDoctor</th>\n",
       "      <th>GeneralHealth</th>\n",
       "      <th>MentalHealth</th>\n",
       "      <th>PhysicalHealth</th>\n",
       "      <th>HardToClimbStairs</th>\n",
       "      <th>BiologicalSex</th>\n",
       "      <th>AgeBracket</th>\n",
       "      <th>EducationBracket</th>\n",
       "      <th>IncomeBracket</th>\n",
       "      <th>Zodiac</th>\n",
       "    </tr>\n",
       "  </thead>\n",
       "  <tbody>\n",
       "    <tr>\n",
       "      <th>0</th>\n",
       "      <td>1</td>\n",
       "      <td>1</td>\n",
       "      <td>1.757932</td>\n",
       "      <td>1</td>\n",
       "      <td>0</td>\n",
       "      <td>0</td>\n",
       "      <td>0</td>\n",
       "      <td>0</td>\n",
       "      <td>1</td>\n",
       "      <td>0</td>\n",
       "      <td>...</td>\n",
       "      <td>0</td>\n",
       "      <td>5</td>\n",
       "      <td>1.998588</td>\n",
       "      <td>1.233996</td>\n",
       "      <td>1</td>\n",
       "      <td>1</td>\n",
       "      <td>9</td>\n",
       "      <td>4</td>\n",
       "      <td>3</td>\n",
       "      <td>10</td>\n",
       "    </tr>\n",
       "    <tr>\n",
       "      <th>1</th>\n",
       "      <td>0</td>\n",
       "      <td>0</td>\n",
       "      <td>-0.511805</td>\n",
       "      <td>1</td>\n",
       "      <td>0</td>\n",
       "      <td>0</td>\n",
       "      <td>1</td>\n",
       "      <td>0</td>\n",
       "      <td>0</td>\n",
       "      <td>0</td>\n",
       "      <td>...</td>\n",
       "      <td>1</td>\n",
       "      <td>3</td>\n",
       "      <td>-0.429629</td>\n",
       "      <td>-0.486591</td>\n",
       "      <td>0</td>\n",
       "      <td>1</td>\n",
       "      <td>7</td>\n",
       "      <td>6</td>\n",
       "      <td>1</td>\n",
       "      <td>11</td>\n",
       "    </tr>\n",
       "    <tr>\n",
       "      <th>2</th>\n",
       "      <td>1</td>\n",
       "      <td>1</td>\n",
       "      <td>-0.057858</td>\n",
       "      <td>0</td>\n",
       "      <td>0</td>\n",
       "      <td>0</td>\n",
       "      <td>0</td>\n",
       "      <td>1</td>\n",
       "      <td>0</td>\n",
       "      <td>0</td>\n",
       "      <td>...</td>\n",
       "      <td>1</td>\n",
       "      <td>5</td>\n",
       "      <td>3.617399</td>\n",
       "      <td>2.954584</td>\n",
       "      <td>1</td>\n",
       "      <td>1</td>\n",
       "      <td>9</td>\n",
       "      <td>4</td>\n",
       "      <td>8</td>\n",
       "      <td>2</td>\n",
       "    </tr>\n",
       "    <tr>\n",
       "      <th>3</th>\n",
       "      <td>1</td>\n",
       "      <td>0</td>\n",
       "      <td>-0.209173</td>\n",
       "      <td>0</td>\n",
       "      <td>0</td>\n",
       "      <td>0</td>\n",
       "      <td>1</td>\n",
       "      <td>1</td>\n",
       "      <td>1</td>\n",
       "      <td>0</td>\n",
       "      <td>...</td>\n",
       "      <td>0</td>\n",
       "      <td>2</td>\n",
       "      <td>-0.429629</td>\n",
       "      <td>-0.486591</td>\n",
       "      <td>0</td>\n",
       "      <td>1</td>\n",
       "      <td>11</td>\n",
       "      <td>3</td>\n",
       "      <td>6</td>\n",
       "      <td>11</td>\n",
       "    </tr>\n",
       "    <tr>\n",
       "      <th>4</th>\n",
       "      <td>1</td>\n",
       "      <td>1</td>\n",
       "      <td>-0.663121</td>\n",
       "      <td>0</td>\n",
       "      <td>0</td>\n",
       "      <td>0</td>\n",
       "      <td>1</td>\n",
       "      <td>1</td>\n",
       "      <td>1</td>\n",
       "      <td>0</td>\n",
       "      <td>...</td>\n",
       "      <td>0</td>\n",
       "      <td>2</td>\n",
       "      <td>-0.024926</td>\n",
       "      <td>-0.486591</td>\n",
       "      <td>0</td>\n",
       "      <td>1</td>\n",
       "      <td>11</td>\n",
       "      <td>5</td>\n",
       "      <td>4</td>\n",
       "      <td>8</td>\n",
       "    </tr>\n",
       "  </tbody>\n",
       "</table>\n",
       "<p>5 rows × 21 columns</p>\n",
       "</div>"
      ],
      "text/plain": [
       "   HighBP  HighChol       BMI  Smoker  Stroke  Myocardial  PhysActivity  \\\n",
       "0       1         1  1.757932       1       0           0             0   \n",
       "1       0         0 -0.511805       1       0           0             1   \n",
       "2       1         1 -0.057858       0       0           0             0   \n",
       "3       1         0 -0.209173       0       0           0             1   \n",
       "4       1         1 -0.663121       0       0           0             1   \n",
       "\n",
       "   Fruit  Vegetables  HeavyDrinker  ...  NotAbleToAffordDoctor  GeneralHealth  \\\n",
       "0      0           1             0  ...                      0              5   \n",
       "1      0           0             0  ...                      1              3   \n",
       "2      1           0             0  ...                      1              5   \n",
       "3      1           1             0  ...                      0              2   \n",
       "4      1           1             0  ...                      0              2   \n",
       "\n",
       "   MentalHealth  PhysicalHealth  HardToClimbStairs  BiologicalSex  AgeBracket  \\\n",
       "0      1.998588        1.233996                  1              1           9   \n",
       "1     -0.429629       -0.486591                  0              1           7   \n",
       "2      3.617399        2.954584                  1              1           9   \n",
       "3     -0.429629       -0.486591                  0              1          11   \n",
       "4     -0.024926       -0.486591                  0              1          11   \n",
       "\n",
       "   EducationBracket  IncomeBracket  Zodiac  \n",
       "0                 4              3      10  \n",
       "1                 6              1      11  \n",
       "2                 4              8       2  \n",
       "3                 3              6      11  \n",
       "4                 5              4       8  \n",
       "\n",
       "[5 rows x 21 columns]"
      ]
     },
     "execution_count": 7,
     "metadata": {},
     "output_type": "execute_result"
    }
   ],
   "source": [
    "X=df1.loc[:,'HighBP':'Zodiac']\n",
    "print(X.shape)\n",
    "X.head()"
   ]
  },
  {
   "cell_type": "code",
   "execution_count": 8,
   "id": "ab9c3732",
   "metadata": {},
   "outputs": [
    {
     "name": "stdout",
     "output_type": "stream",
     "text": [
      "(253680,)\n"
     ]
    }
   ],
   "source": [
    "y=df1['Diabetes']\n",
    "y.head()\n",
    "print(y.shape)"
   ]
  },
  {
   "cell_type": "code",
   "execution_count": 9,
   "id": "1ab69d8a",
   "metadata": {},
   "outputs": [
    {
     "name": "stdout",
     "output_type": "stream",
     "text": [
      "(50736, 21)\n",
      "(50736,)\n"
     ]
    }
   ],
   "source": [
    "X_train, X_test, y_train, y_test = model_selection.train_test_split(X,y, test_size = 0.2)\n",
    "print(X_test.shape)\n",
    "print(y_test.shape)"
   ]
  },
  {
   "cell_type": "markdown",
   "id": "3633c810",
   "metadata": {},
   "source": [
    "Logistic Regression"
   ]
  },
  {
   "cell_type": "code",
   "execution_count": 103,
   "id": "bc3d0f92",
   "metadata": {},
   "outputs": [
    {
     "name": "stdout",
     "output_type": "stream",
     "text": [
      "0.8198905022868597\n"
     ]
    }
   ],
   "source": [
    "clf = LogisticRegression(solver=\"liblinear\", random_state=0).fit(X_train, y_train)\n",
    "AUROC = metrics.roc_auc_score(y_test, clf.decision_function(X_test))\n",
    "print(AUROC)"
   ]
  },
  {
   "cell_type": "code",
   "execution_count": 73,
   "id": "a3e5477f",
   "metadata": {},
   "outputs": [
    {
     "data": {
      "image/png": "[encoded data removed]",
      "text/plain": [
       "<Figure size 640x480 with 1 Axes>"
      ]
     },
     "metadata": {},
     "output_type": "display_data"
    }
   ],
   "source": [
    "probs = clf.predict_proba(X_test)\n",
    "preds = probs[:,1]\n",
    "fpr, tpr, threshold = metrics.roc_curve(y_test, preds)\n",
    "roc_auc = metrics.auc(fpr, tpr)\n",
    "plt.title('Receiver Operating Characteristic')\n",
    "plt.plot(fpr, tpr, 'b', label = 'AUC = %0.2f' % roc_auc)\n",
    "plt.legend(loc = 'lower right')\n",
    "plt.plot([0, 1], [0, 1],'r--')\n",
    "plt.xlim([0, 1])\n",
    "plt.ylim([0, 1])\n",
    "plt.ylabel('True Positive Rate')\n",
    "plt.xlabel('False Positive Rate')\n",
    "plt.show()"
   ]
  },
  {
   "cell_type": "code",
   "execution_count": 3,
   "id": "8088fa35",
   "metadata": {},
   "outputs": [
    {
     "name": "stdout",
     "output_type": "stream",
     "text": [
      "[0. 0. 0. 0. 0. 0. 0. 0. 0. 0. 0. 0. 0. 0. 0. 0. 0. 0. 0. 0. 0.]\n"
     ]
    }
   ],
   "source": [
    "record=np.zeros(21)\n",
    "print(record)"
   ]
  },
  {
   "cell_type": "code",
   "execution_count": 71,
   "id": "d020b68a",
   "metadata": {},
   "outputs": [
    {
     "name": "stdout",
     "output_type": "stream",
     "text": [
      "[0.81387794 0.81413076 0.80450194 0.8199498  0.81977704 0.81942915\n",
      " 0.81989464 0.81989176 0.81994773 0.818403   0.81985163 0.81998606\n",
      " 0.80459257 0.81989383 0.81980776 0.81977312 0.81889282 0.81181737\n",
      " 0.81995016 0.81936188 0.81995841]\n",
      "2\n"
     ]
    }
   ],
   "source": [
    "i=0\n",
    "for column_name in X.columns:\n",
    "    X_train1=X_train.copy()\n",
    "    X_test1=X_test.copy()\n",
    "    X_train1.drop(labels=column_name,axis=1,inplace=True)\n",
    "    X_test1.drop(labels=column_name,axis=1,inplace=True)\n",
    "    clf = LogisticRegression(solver=\"liblinear\", random_state=0).fit(X_train1, y_train)\n",
    "    AUROC = metrics.roc_auc_score(y_test, clf.decision_function(X_test1))\n",
    "    record[i]=AUROC\n",
    "    i+=1\n",
    "print(record)\n",
    "min_index = np.argmin(record)\n",
    "print(min_index)"
   ]
  },
  {
   "cell_type": "markdown",
   "id": "ea38b8b7",
   "metadata": {},
   "source": [
    "SVM"
   ]
  },
  {
   "cell_type": "code",
   "execution_count": 10,
   "id": "4f686891",
   "metadata": {},
   "outputs": [
    {
     "name": "stdout",
     "output_type": "stream",
     "text": [
      "0.8213422943230673\n"
     ]
    }
   ],
   "source": [
    "svm = LinearSVC(C = 1, dual = False) \n",
    "svm.fit(X_train, y_train)\n",
    "AUROC = metrics.roc_auc_score(y_test, svm.decision_function(X_test))\n",
    "print(AUROC)"
   ]
  },
  {
   "cell_type": "code",
   "execution_count": 11,
   "id": "3a0884a5",
   "metadata": {},
   "outputs": [
    {
     "data": {
      "image/png": "[encoded data removed]",
      "text/plain": [
       "<Figure size 640x480 with 1 Axes>"
      ]
     },
     "metadata": {},
     "output_type": "display_data"
    }
   ],
   "source": [
    "probs = svm.decision_function(X_test)\n",
    "preds = probs[:]\n",
    "fpr, tpr, threshold = metrics.roc_curve(y_test, preds)\n",
    "roc_auc = metrics.auc(fpr, tpr)\n",
    "plt.title('Receiver Operating Characteristic')\n",
    "plt.plot(fpr, tpr, 'b', label = 'AUC = %0.2f' % roc_auc)\n",
    "plt.legend(loc = 'lower right')\n",
    "plt.plot([0, 1], [0, 1],'r--')\n",
    "plt.xlim([0, 1])\n",
    "plt.ylim([0, 1])\n",
    "plt.ylabel('True Positive Rate')\n",
    "plt.xlabel('False Positive Rate')\n",
    "plt.show()"
   ]
  },
  {
   "cell_type": "code",
   "execution_count": 12,
   "id": "e19dff47",
   "metadata": {},
   "outputs": [
    {
     "name": "stdout",
     "output_type": "stream",
     "text": [
      "[0.81415094 0.81564703 0.80458572 0.82148394 0.82120132 0.82043532\n",
      " 0.82137665 0.82127914 0.82132736 0.8202346  0.82132429 0.82133486\n",
      " 0.80785082 0.82129771 0.82126333 0.82116292 0.82035667 0.81327752\n",
      " 0.82128383 0.82079775 0.82134969]\n",
      "2\n"
     ]
    }
   ],
   "source": [
    "i=0\n",
    "for column_name in X.columns:\n",
    "    X_train1=X_train.copy()\n",
    "    X_test1=X_test.copy()\n",
    "    X_train1.drop(labels=column_name,axis=1,inplace=True)\n",
    "    X_test1.drop(labels=column_name,axis=1,inplace=True)\n",
    "    svm = LinearSVC(C = 1, dual = False) \n",
    "    svm.fit(X_train1, y_train)\n",
    "    AUROC = metrics.roc_auc_score(y_test, svm.decision_function(X_test1))\n",
    "    record[i]=AUROC\n",
    "    i+=1\n",
    "print(record)\n",
    "min_index = np.argmin(record)\n",
    "print(min_index)"
   ]
  },
  {
   "cell_type": "markdown",
   "id": "1b1e4db5",
   "metadata": {},
   "source": [
    "Single Tree"
   ]
  },
  {
   "cell_type": "code",
   "execution_count": 129,
   "id": "44e8be16",
   "metadata": {},
   "outputs": [
    {
     "data": {
      "text/plain": [
       "(50736,)"
      ]
     },
     "execution_count": 129,
     "metadata": {},
     "output_type": "execute_result"
    }
   ],
   "source": [
    "y_test.shape"
   ]
  },
  {
   "cell_type": "code",
   "execution_count": 130,
   "id": "c5dc474d",
   "metadata": {},
   "outputs": [
    {
     "name": "stdout",
     "output_type": "stream",
     "text": [
      "0.5967340341892741\n"
     ]
    }
   ],
   "source": [
    "clf = tree.DecisionTreeClassifier(criterion='gini')\n",
    "clf = clf.fit(X_train, y_train)\n",
    "AUROC = metrics.roc_auc_score(y_test, clf.predict_proba(X_test)[:, 1])\n",
    "print(AUROC)"
   ]
  },
  {
   "cell_type": "code",
   "execution_count": 131,
   "id": "2690bb0e",
   "metadata": {},
   "outputs": [
    {
     "data": {
      "image/png": "[encoded data removed]",
      "text/plain": [
       "<Figure size 640x480 with 1 Axes>"
      ]
     },
     "metadata": {},
     "output_type": "display_data"
    }
   ],
   "source": [
    "probs = clf.predict_proba(X_test)\n",
    "preds = probs[:,1]\n",
    "fpr, tpr, threshold = metrics.roc_curve(y_test, preds)\n",
    "roc_auc = metrics.auc(fpr, tpr)\n",
    "plt.title('Receiver Operating Characteristic')\n",
    "plt.plot(fpr, tpr, 'b', label = 'AUC = %0.2f' % roc_auc)\n",
    "plt.legend(loc = 'lower right')\n",
    "plt.plot([0, 1], [0, 1],'r--')\n",
    "plt.xlim([0, 1])\n",
    "plt.ylim([0, 1])\n",
    "plt.ylabel('True Positive Rate')\n",
    "plt.xlabel('False Positive Rate')\n",
    "plt.show()"
   ]
  },
  {
   "cell_type": "code",
   "execution_count": 133,
   "id": "dbc8ba92",
   "metadata": {},
   "outputs": [
    {
     "name": "stdout",
     "output_type": "stream",
     "text": [
      "[0.59411892 0.59570518 0.58255473 0.59718631 0.59686749 0.59342091\n",
      " 0.59784632 0.59499585 0.59705775 0.59183748 0.59712657 0.59677158\n",
      " 0.59532306 0.59338366 0.59556455 0.59669214 0.59575871 0.59157688\n",
      " 0.59321171 0.59923894 0.59872363]\n",
      "2\n"
     ]
    }
   ],
   "source": [
    "i=0\n",
    "for column_name in X.columns:\n",
    "    X_train1=X_train.copy()\n",
    "    X_test1=X_test.copy()\n",
    "    X_train1.drop(labels=column_name,axis=1,inplace=True)\n",
    "    X_test1.drop(labels=column_name,axis=1,inplace=True)\n",
    "    clf = tree.DecisionTreeClassifier(criterion='gini')\n",
    "    clf = clf.fit(X_train1, y_train)\n",
    "    AUROC = metrics.roc_auc_score(y_test, clf.predict_proba(X_test1)[:, 1])\n",
    "    record[i]=AUROC\n",
    "    i+=1\n",
    "print(record)\n",
    "min_index = np.argmin(record)\n",
    "print(min_index)"
   ]
  },
  {
   "cell_type": "markdown",
   "id": "0a7307b4",
   "metadata": {},
   "source": [
    "Random Forest"
   ]
  },
  {
   "cell_type": "code",
   "execution_count": 136,
   "id": "d258ea99",
   "metadata": {},
   "outputs": [
    {
     "name": "stdout",
     "output_type": "stream",
     "text": [
      "0.8238527224589606\n"
     ]
    }
   ],
   "source": [
    "clf = RandomForestClassifier(n_estimators=1000, max_samples=0.1, max_features=0.5,bootstrap=True, criterion='gini')\n",
    "clf.fit(X_train, y_train)\n",
    "AUROC = metrics.roc_auc_score(y_test, clf.predict_proba(X_test)[:, 1])\n",
    "print(AUROC)"
   ]
  },
  {
   "cell_type": "code",
   "execution_count": 137,
   "id": "9e9dffdc",
   "metadata": {},
   "outputs": [
    {
     "data": {
      "image/png": "[encoded data removed]",
      "text/plain": [
       "<Figure size 640x480 with 1 Axes>"
      ]
     },
     "metadata": {},
     "output_type": "display_data"
    }
   ],
   "source": [
    "probs = clf.predict_proba(X_test)\n",
    "preds = probs[:,1]\n",
    "fpr, tpr, threshold = metrics.roc_curve(y_test, preds)\n",
    "roc_auc = metrics.auc(fpr, tpr)\n",
    "plt.title('Receiver Operating Characteristic')\n",
    "plt.plot(fpr, tpr, 'b', label = 'AUC = %0.2f' % roc_auc)\n",
    "plt.legend(loc = 'lower right')\n",
    "plt.plot([0, 1], [0, 1],'r--')\n",
    "plt.xlim([0, 1])\n",
    "plt.ylim([0, 1])\n",
    "plt.ylabel('True Positive Rate')\n",
    "plt.xlabel('False Positive Rate')\n",
    "plt.show()"
   ]
  },
  {
   "cell_type": "code",
   "execution_count": 139,
   "id": "7f35595b",
   "metadata": {},
   "outputs": [
    {
     "name": "stdout",
     "output_type": "stream",
     "text": [
      "[0.81116309 0.81051862 0.79901006 0.81632089 0.81854596 0.81786446\n",
      " 0.81777902 0.816788   0.81824656 0.81695383 0.81749224 0.81749708\n",
      " 0.80088789 0.81846538 0.81694197 0.81753334 0.81692691 0.80743931\n",
      " 0.81706024 0.81607519 0.81728528]\n",
      "2\n"
     ]
    }
   ],
   "source": [
    "i=0\n",
    "for column_name in X.columns:\n",
    "    X_train1=X_train.copy()\n",
    "    X_test1=X_test.copy()\n",
    "    X_train1.drop(labels=column_name,axis=1,inplace=True)\n",
    "    X_test1.drop(labels=column_name,axis=1,inplace=True)\n",
    "    clf = RandomForestClassifier(n_estimators=100, max_samples=0.1, max_features=0.5,bootstrap=True, criterion='gini')\n",
    "    clf.fit(X_train1, y_train)\n",
    "    AUROC = metrics.roc_auc_score(y_test, clf.predict_proba(X_test1)[:, 1])\n",
    "    record[i]=AUROC\n",
    "    i+=1\n",
    "print(record)\n",
    "min_index = np.argmin(record)\n",
    "print(min_index)"
   ]
  },
  {
   "cell_type": "markdown",
   "id": "f485ac6d",
   "metadata": {},
   "source": [
    "Adaboost"
   ]
  },
  {
   "cell_type": "code",
   "execution_count": 142,
   "id": "8de97553",
   "metadata": {},
   "outputs": [
    {
     "name": "stdout",
     "output_type": "stream",
     "text": [
      "0.8278938291322622\n"
     ]
    }
   ],
   "source": [
    "bdt = AdaBoostClassifier(\n",
    "    tree.DecisionTreeClassifier(max_depth=1), algorithm=\"SAMME\", n_estimators=2000, learning_rate=1\n",
    ")\n",
    "bdt.fit(X_train, y_train)\n",
    "AUROC = metrics.roc_auc_score(y_test, bdt.predict_proba(X_test)[:, 1])\n",
    "print(AUROC)"
   ]
  },
  {
   "cell_type": "code",
   "execution_count": 143,
   "id": "eda59467",
   "metadata": {},
   "outputs": [
    {
     "data": {
      "image/png": "[encoded data removed]",
      "text/plain": [
       "<Figure size 640x480 with 1 Axes>"
      ]
     },
     "metadata": {},
     "output_type": "display_data"
    }
   ],
   "source": [
    "probs = bdt.predict_proba(X_test)\n",
    "preds = probs[:,1]\n",
    "fpr, tpr, threshold = metrics.roc_curve(y_test, preds)\n",
    "roc_auc = metrics.auc(fpr, tpr)\n",
    "plt.title('Receiver Operating Characteristic')\n",
    "plt.plot(fpr, tpr, 'b', label = 'AUC = %0.2f' % roc_auc)\n",
    "plt.legend(loc = 'lower right')\n",
    "plt.plot([0, 1], [0, 1],'r--')\n",
    "plt.xlim([0, 1])\n",
    "plt.ylim([0, 1])\n",
    "plt.ylabel('True Positive Rate')\n",
    "plt.xlabel('False Positive Rate')\n",
    "plt.show()"
   ]
  },
  {
   "cell_type": "code",
   "execution_count": 145,
   "id": "368854ea",
   "metadata": {},
   "outputs": [
    {
     "name": "stdout",
     "output_type": "stream",
     "text": [
      "[0.81872044 0.82223955 0.81151376 0.82694858 0.82672791 0.82633074\n",
      " 0.82694858 0.82694858 0.82694858 0.82568541 0.82694858 0.82694858\n",
      " 0.81192853 0.82681122 0.82694858 0.82670827 0.82613082 0.82042525\n",
      " 0.82668106 0.82628171 0.82694858]\n",
      "2\n"
     ]
    }
   ],
   "source": [
    "i=0\n",
    "for column_name in X.columns:\n",
    "    X_train1=X_train.copy()\n",
    "    X_test1=X_test.copy()\n",
    "    X_train1.drop(labels=column_name,axis=1,inplace=True)\n",
    "    X_test1.drop(labels=column_name,axis=1,inplace=True)\n",
    "    bdt = AdaBoostClassifier(\n",
    "    tree.DecisionTreeClassifier(max_depth=1), algorithm=\"SAMME\", n_estimators=200, learning_rate=1\n",
    ")\n",
    "    bdt.fit(X_train1, y_train)\n",
    "    AUROC = metrics.roc_auc_score(y_test, bdt.predict_proba(X_test1)[:, 1])\n",
    "    record[i]=AUROC\n",
    "    i+=1\n",
    "print(record)\n",
    "min_index = np.argmin(record)\n",
    "print(min_index)"
   ]
  },
  {
   "cell_type": "code",
   "execution_count": null,
   "id": "6cc9a586",
   "metadata": {},
   "outputs": [],
   "source": []
  }
 ],
 "metadata": {
  "kernelspec": {
   "display_name": "Python 3 (ipykernel)",
   "language": "python",
   "name": "python3"
  },
  "language_info": {
   "codemirror_mode": {
    "name": "ipython",
    "version": 3
   },
   "file_extension": ".py",
   "mimetype": "text/x-python",
   "name": "python",
   "nbconvert_exporter": "python",
   "pygments_lexer": "ipython3",
   "version": "3.10.9"
  }
 },
 "nbformat": 4,
 "nbformat_minor": 5
}
